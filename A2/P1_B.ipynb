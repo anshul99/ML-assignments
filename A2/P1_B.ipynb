{
 "cells": [
  {
   "cell_type": "code",
   "execution_count": 1,
   "metadata": {},
   "outputs": [],
   "source": [
    "import pandas as pd\n",
    "import numpy as np\n",
    "from cvxopt import matrix, solvers\n",
    "from cvxopt.modeling import variable\n",
    "from sklearn.svm import SVC"
   ]
  },
  {
   "cell_type": "code",
   "execution_count": 3,
   "metadata": {},
   "outputs": [],
   "source": [
    "data = pd.read_csv('2017EE30515.csv', header = None)\n",
    "\n",
    "t1 = 0\n",
    "t2 = 1\n",
    "num_f = 25\n",
    "train_ex = 480\n",
    "\n",
    "bin_data = data[(data[25] == t1) | (data[25] == t2)].sample(frac=1)\n",
    "X_bin = np.array(bin_data.loc[:,:num_f-1])\n",
    "t_bin = np.array(bin_data.loc[:,25])\n",
    "t_bin[t_bin == 0] = -1\n",
    "\n",
    "X_bin_train = X_bin[:train_ex]\n",
    "t_bin_train = t_bin[:train_ex]\n",
    "X_bin_val = X_bin[train_ex:]\n",
    "t_bin_val = t_bin[train_ex:]"
   ]
  },
  {
   "cell_type": "code",
   "execution_count": 4,
   "metadata": {},
   "outputs": [
    {
     "name": "stdout",
     "output_type": "stream",
     "text": [
      "     pcost       dcost       gap    pres   dres\n",
      " 0: -2.5168e+01 -8.1979e+02  4e+03  2e+00  5e-14\n",
      " 1: -1.4000e+01 -3.9861e+02  7e+02  3e-01  3e-14\n",
      " 2: -4.7815e+00 -9.4528e+01  1e+02  6e-02  2e-14\n",
      " 3: -1.7157e+00 -5.2999e+01  8e+01  3e-02  1e-14\n",
      " 4: -4.4910e-02 -8.0963e+00  1e+01  3e-03  3e-15\n",
      " 5: -4.1307e-02 -6.4587e-01  6e-01  3e-05  2e-15\n",
      " 6: -1.6313e-01 -3.8430e-01  2e-01  1e-05  2e-15\n",
      " 7: -2.1837e-01 -3.8816e-01  2e-01  2e-06  9e-16\n",
      " 8: -2.5237e-01 -3.3668e-01  8e-02  2e-07  1e-15\n",
      " 9: -2.7716e-01 -2.9191e-01  1e-02  2e-08  1e-15\n",
      "10: -2.8315e-01 -2.8364e-01  5e-04  1e-10  2e-15\n",
      "11: -2.8338e-01 -2.8339e-01  5e-06  1e-12  2e-15\n",
      "12: -2.8338e-01 -2.8338e-01  5e-08  1e-14  2e-15\n",
      "Optimal solution found.\n"
     ]
    }
   ],
   "source": [
    "ker = 'linear'\n",
    "if ker is 'linear':\n",
    "    C = 1\n",
    "if ker is 'rbf':\n",
    "    C = 10\n",
    "    gamma = 0.001\n",
    "\n",
    "n_samples, n_features = X_bin_train.shape\n",
    "K = np.zeros((n_samples, n_samples))\n",
    "\n",
    "for i in range(n_samples):\n",
    "    for j in range(n_samples):\n",
    "        if ker is 'linear':\n",
    "            K[i,j] = np.dot(X_bin_train[i],np.transpose(X_bin_train[j]))\n",
    "        if ker is 'rbf':\n",
    "            K[i,j] = np.exp(-1*gamma*np.sum(np.square(X_bin_train[i]-X_bin_train[j])))\n",
    "\n",
    "P = matrix(np.outer(t_bin_train,t_bin_train) * K)\n",
    "q = matrix(np.ones(n_samples) * -1)\n",
    "A = matrix(t_bin_train, (1,n_samples))\n",
    "A = matrix(A,(1,n_samples),'d')\n",
    "b = matrix(0.0)\n",
    "G = matrix(np.vstack((np.diag(np.ones(n_samples) * -1), np.identity(n_samples))))\n",
    "h = matrix(np.hstack((np.zeros(n_samples), np.ones(n_samples) * C)))\n",
    "solution = solvers.qp(P, q, G, h, A, b)\n",
    "a = np.ravel(solution['x'])\n",
    "sv = a > 1e-5"
   ]
  },
  {
   "cell_type": "code",
   "execution_count": 14,
   "metadata": {},
   "outputs": [
    {
     "data": {
      "text/plain": [
       "array([[-1.,  0.,  0., ...,  0.,  0.,  0.],\n",
       "       [ 0., -1.,  0., ...,  0.,  0.,  0.],\n",
       "       [ 0.,  0., -1., ...,  0.,  0.,  0.],\n",
       "       ...,\n",
       "       [ 0.,  0.,  0., ...,  1.,  0.,  0.],\n",
       "       [ 0.,  0.,  0., ...,  0.,  1.,  0.],\n",
       "       [ 0.,  0.,  0., ...,  0.,  0.,  1.]])"
      ]
     },
     "execution_count": 14,
     "metadata": {},
     "output_type": "execute_result"
    }
   ],
   "source": [
    "np.vstack((np.diag(np.ones(n_samples) * -1), np.identity(n_samples)))"
   ]
  },
  {
   "cell_type": "code",
   "execution_count": 18,
   "metadata": {},
   "outputs": [
    {
     "data": {
      "text/plain": [
       "(2, 480)"
      ]
     },
     "execution_count": 18,
     "metadata": {},
     "output_type": "execute_result"
    }
   ],
   "source": [
    "np.vstack((np.zeros(n_samples), np.ones(n_samples) * C)).shape"
   ]
  },
  {
   "cell_type": "code",
   "execution_count": 20,
   "metadata": {},
   "outputs": [
    {
     "data": {
      "text/plain": [
       "(480,)"
      ]
     },
     "execution_count": 20,
     "metadata": {},
     "output_type": "execute_result"
    }
   ],
   "source": [
    "np.ones(n_samples).shape"
   ]
  },
  {
   "cell_type": "code",
   "execution_count": 15,
   "metadata": {},
   "outputs": [
    {
     "data": {
      "text/plain": [
       "(480,)"
      ]
     },
     "execution_count": 15,
     "metadata": {},
     "output_type": "execute_result"
    }
   ],
   "source": [
    "a.shape"
   ]
  },
  {
   "cell_type": "code",
   "execution_count": 71,
   "metadata": {},
   "outputs": [],
   "source": [
    "lm = a[sv]\n",
    "lm = lm.reshape(len(lm),1)\n",
    "sv_t = t_bin_train[sv]\n",
    "sv_t = sv_t.reshape(len(sv_t),1)\n",
    "sv_x = X_bin_train[sv]"
   ]
  },
  {
   "cell_type": "code",
   "execution_count": 72,
   "metadata": {
    "scrolled": true
   },
   "outputs": [
    {
     "name": "stdout",
     "output_type": "stream",
     "text": [
      "w = [ 0.47607378 -0.22507329  0.06984814 -0.13698964  0.14598698 -0.02710312\n",
      " -0.07673886  0.21814866  0.01722041 -0.04195948 -0.03062127  0.18486051\n",
      " -0.04923804 -0.18138636 -0.15827904 -0.01466951  0.0393599  -0.02507239\n",
      " -0.22059507 -0.03347074  0.01356878 -0.09083855 -0.01472464 -0.096191\n",
      " -0.19745122]\n"
     ]
    }
   ],
   "source": [
    "w = np.sum(lm*sv_t*sv_x,axis=0)\n",
    "print('w =', w)"
   ]
  },
  {
   "cell_type": "code",
   "execution_count": 73,
   "metadata": {},
   "outputs": [
    {
     "name": "stdout",
     "output_type": "stream",
     "text": [
      "b = 0.17967036136665873\n"
     ]
    }
   ],
   "source": [
    "b = np.mean(t_bin_train - np.dot(X_bin_train,w))\n",
    "print('b =', b)"
   ]
  },
  {
   "cell_type": "code",
   "execution_count": 74,
   "metadata": {},
   "outputs": [],
   "source": [
    "y_train = np.dot(X_bin_train,w) + b\n",
    "y_val = np.dot(X_bin_val,w)+b\n",
    "y_train[y_train<0] = -1\n",
    "y_train[y_train>=0] = 1\n",
    "y_val[y_val<0] = -1\n",
    "y_val[y_val>=0] = 1\n",
    "y_train = y_train.astype(int)\n",
    "y_val = y_val.astype(int)"
   ]
  },
  {
   "cell_type": "code",
   "execution_count": 75,
   "metadata": {},
   "outputs": [
    {
     "name": "stdout",
     "output_type": "stream",
     "text": [
      "Training score = 1.0\n",
      "Validation score = 1.0\n",
      "13 support vectors using CVXOPT: [20, 50, 97, 259, 286, 297, 319, 321, 327, 329, 430, 443, 469]\n"
     ]
    }
   ],
   "source": [
    "res1 = (y_train == t_bin_train)\n",
    "res2 = (y_val == t_bin_val)\n",
    "print('Training score =',(res1==True).sum()/len(res1))\n",
    "print('Validation score =',(res2==True).sum()/len(res2))\n",
    "print(str(len(sv_x))+' support vectors using CVXOPT:', np.where(sv==True)[0].tolist())"
   ]
  },
  {
   "cell_type": "code",
   "execution_count": 76,
   "metadata": {
    "scrolled": true
   },
   "outputs": [
    {
     "name": "stdout",
     "output_type": "stream",
     "text": [
      "Training score using SVC = 1.0\n",
      "Validation score using SVC = 1.0\n",
      "13 support vectors using SVC: [20, 50, 97, 259, 286, 297, 319, 321, 327, 329, 430, 443, 469]\n"
     ]
    }
   ],
   "source": [
    "if ker is 'linear':\n",
    "    s = SVC(kernel='linear',C = 1)\n",
    "if ker is 'rbf':\n",
    "    s = SVC(kernel='rbf', C=10, gamma=0.001)\n",
    "s.fit(X_bin_train,t_bin_train)\n",
    "print('Training score using SVC =',s.score(X_bin_train,t_bin_train))\n",
    "print('Validation score using SVC =',s.score(X_bin_val,t_bin_val))\n",
    "print(str(len(s.support_))+' support vectors using SVC:', sorted(s.support_))"
   ]
  },
  {
   "cell_type": "code",
   "execution_count": null,
   "metadata": {},
   "outputs": [],
   "source": []
  }
 ],
 "metadata": {
  "kernelspec": {
   "display_name": "Python 3",
   "language": "python",
   "name": "python3"
  },
  "language_info": {
   "codemirror_mode": {
    "name": "ipython",
    "version": 3
   },
   "file_extension": ".py",
   "mimetype": "text/x-python",
   "name": "python",
   "nbconvert_exporter": "python",
   "pygments_lexer": "ipython3",
   "version": "3.6.2"
  }
 },
 "nbformat": 4,
 "nbformat_minor": 2
}
