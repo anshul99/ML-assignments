{
 "cells": [
  {
   "cell_type": "code",
   "execution_count": 1,
   "metadata": {},
   "outputs": [
    {
     "name": "stderr",
     "output_type": "stream",
     "text": [
      "Using TensorFlow backend.\n"
     ]
    }
   ],
   "source": [
    "import numpy as np\n",
    "import pandas as pd\n",
    "from keras.layers import Dense,Conv2D,MaxPooling2D,Dropout,Flatten\n",
    "from keras.models import Sequential,Model\n",
    "from keras.datasets import mnist\n",
    "import matplotlib.pyplot as plt"
   ]
  },
  {
   "cell_type": "code",
   "execution_count": 2,
   "metadata": {},
   "outputs": [],
   "source": [
    "#data = pd.read_csv('2017EE30515.csv',header=None)\n",
    "#X = np.array(data.iloc[:,:784]/255 - 0.5)\n",
    "#X = X.reshape(len(X),28,28,1)\n",
    "#t = np.array(data.iloc[:,784])"
   ]
  },
  {
   "cell_type": "code",
   "execution_count": 3,
   "metadata": {},
   "outputs": [],
   "source": [
    "(X_train,t_train),(X_val,t_val) = mnist.load_data()"
   ]
  },
  {
   "cell_type": "code",
   "execution_count": 4,
   "metadata": {},
   "outputs": [],
   "source": [
    "X_train = X_train.reshape(len(X_train),28,28,1)\n",
    "X_val = X_val.reshape(len(X_val),28,28,1)"
   ]
  },
  {
   "cell_type": "code",
   "execution_count": 5,
   "metadata": {},
   "outputs": [],
   "source": [
    "t_train_oh = np.zeros((len(t_train),10))\n",
    "t_train_oh[np.arange(len(t_train)),t_train] = 1\n",
    "\n",
    "t_val_oh = np.zeros((len(t_val),10))\n",
    "t_val_oh[np.arange(len(t_val)),t_val] = 1"
   ]
  },
  {
   "cell_type": "code",
   "execution_count": 6,
   "metadata": {},
   "outputs": [
    {
     "name": "stdout",
     "output_type": "stream",
     "text": [
      "_________________________________________________________________\n",
      "Layer (type)                 Output Shape              Param #   \n",
      "=================================================================\n",
      "conv2d_1 (Conv2D)            (None, 24, 24, 64)        1664      \n",
      "_________________________________________________________________\n",
      "conv2d_2 (Conv2D)            (None, 22, 22, 32)        18464     \n",
      "_________________________________________________________________\n",
      "max_pooling2d_1 (MaxPooling2 (None, 11, 11, 32)        0         \n",
      "_________________________________________________________________\n",
      "dropout_1 (Dropout)          (None, 11, 11, 32)        0         \n",
      "_________________________________________________________________\n",
      "flatten_1 (Flatten)          (None, 3872)              0         \n",
      "_________________________________________________________________\n",
      "dense_1 (Dense)              (None, 64)                247872    \n",
      "_________________________________________________________________\n",
      "dropout_2 (Dropout)          (None, 64)                0         \n",
      "_________________________________________________________________\n",
      "dense_2 (Dense)              (None, 10)                650       \n",
      "=================================================================\n",
      "Total params: 268,650\n",
      "Trainable params: 268,650\n",
      "Non-trainable params: 0\n",
      "_________________________________________________________________\n"
     ]
    }
   ],
   "source": [
    "model = Sequential()\n",
    "model.add(Conv2D(64,(5,5),activation='relu',input_shape=(28,28,1)))\n",
    "model.add(Conv2D(32,(3,3),activation='relu'))\n",
    "model.add(MaxPooling2D(pool_size=(2,2)))\n",
    "model.add(Dropout(0.2))\n",
    "model.add(Flatten())\n",
    "model.add(Dense(64,activation='relu'))\n",
    "model.add(Dropout(0.5))\n",
    "model.add(Dense(10,activation='softmax'))\n",
    "model.summary()"
   ]
  },
  {
   "cell_type": "code",
   "execution_count": 7,
   "metadata": {},
   "outputs": [],
   "source": [
    "model.compile(loss='categorical_crossentropy', optimizer='adam', metrics=['accuracy'])"
   ]
  },
  {
   "cell_type": "code",
   "execution_count": 8,
   "metadata": {
    "scrolled": true
   },
   "outputs": [
    {
     "name": "stdout",
     "output_type": "stream",
     "text": [
      "Train on 60000 samples, validate on 10000 samples\n",
      "Epoch 1/10\n",
      "60000/60000 [==============================] - 33s 554us/step - loss: 1.7955 - acc: 0.8040 - val_loss: 0.0880 - val_acc: 0.9728\n",
      "Epoch 2/10\n",
      "60000/60000 [==============================] - 30s 499us/step - loss: 0.1803 - acc: 0.9475 - val_loss: 0.0594 - val_acc: 0.9812\n",
      "Epoch 3/10\n",
      "60000/60000 [==============================] - 30s 497us/step - loss: 0.1358 - acc: 0.9606 - val_loss: 0.0518 - val_acc: 0.9835\n",
      "Epoch 4/10\n",
      "60000/60000 [==============================] - 30s 497us/step - loss: 0.1140 - acc: 0.9665 - val_loss: 0.0450 - val_acc: 0.9859\n",
      "Epoch 5/10\n",
      "60000/60000 [==============================] - 30s 497us/step - loss: 0.1036 - acc: 0.9692 - val_loss: 0.0469 - val_acc: 0.9841\n",
      "Epoch 6/10\n",
      "60000/60000 [==============================] - 30s 497us/step - loss: 0.0976 - acc: 0.9720 - val_loss: 0.0494 - val_acc: 0.9831\n",
      "Epoch 7/10\n",
      "60000/60000 [==============================] - 30s 497us/step - loss: 0.0887 - acc: 0.9735 - val_loss: 0.0425 - val_acc: 0.9861\n",
      "Epoch 8/10\n",
      "60000/60000 [==============================] - 30s 497us/step - loss: 0.0815 - acc: 0.9759 - val_loss: 0.0495 - val_acc: 0.9866\n",
      "Epoch 9/10\n",
      "60000/60000 [==============================] - 30s 497us/step - loss: 0.0782 - acc: 0.9765 - val_loss: 0.0431 - val_acc: 0.9869\n",
      "Epoch 10/10\n",
      "60000/60000 [==============================] - 30s 497us/step - loss: 0.0720 - acc: 0.9779 - val_loss: 0.0405 - val_acc: 0.9881\n"
     ]
    }
   ],
   "source": [
    "history = model.fit(X_train,t_train_oh,batch_size=100,epochs=10,validation_data=(X_val,t_val_oh),verbose=1)"
   ]
  },
  {
   "cell_type": "code",
   "execution_count": 9,
   "metadata": {},
   "outputs": [
    {
     "data": {
      "image/png": "[encoded data removed]",
      "text/plain": [
       "<Figure size 432x288 with 1 Axes>"
      ]
     },
     "metadata": {
      "needs_background": "light"
     },
     "output_type": "display_data"
    }
   ],
   "source": [
    "plt.plot(history.history['loss'])\n",
    "plt.plot(history.history['val_loss'])\n",
    "plt.title('Error')\n",
    "plt.xlabel('epoch')\n",
    "plt.legend(['training', 'validation'], loc='best')\n",
    "plt.show()"
   ]
  },
  {
   "cell_type": "code",
   "execution_count": 10,
   "metadata": {},
   "outputs": [
    {
     "data": {
      "image/png": "[encoded data removed]",
      "text/plain": [
       "<Figure size 432x288 with 1 Axes>"
      ]
     },
     "metadata": {
      "needs_background": "light"
     },
     "output_type": "display_data"
    }
   ],
   "source": [
    "plt.plot(history.history['acc'])\n",
    "plt.plot(history.history['val_acc'])\n",
    "plt.title('Accuracy')\n",
    "plt.xlabel('Epoch')\n",
    "plt.legend(['training', 'validation'], loc='best')\n",
    "plt.show()"
   ]
  },
  {
   "cell_type": "code",
   "execution_count": 11,
   "metadata": {},
   "outputs": [
    {
     "data": {
      "text/plain": [
       "<matplotlib.image.AxesImage at 0x1f3db4ca0f0>"
      ]
     },
     "execution_count": 11,
     "metadata": {},
     "output_type": "execute_result"
    },
    {
     "data": {
      "image/png": "[encoded data removed]",
      "text/plain": [
       "<Figure size 432x288 with 1 Axes>"
      ]
     },
     "metadata": {
      "needs_background": "light"
     },
     "output_type": "display_data"
    }
   ],
   "source": [
    "ex = 7\n",
    "plt.imshow(X_train[ex].reshape(28,28))"
   ]
  },
  {
   "cell_type": "code",
   "execution_count": 12,
   "metadata": {},
   "outputs": [],
   "source": [
    "activations = Model(inputs=model.input,outputs=[layer.output for layer in model.layers])\n",
    "act = activations.predict(X_train[ex].reshape((1,28,28,1)))"
   ]
  },
  {
   "cell_type": "code",
   "execution_count": 13,
   "metadata": {},
   "outputs": [
    {
     "name": "stdout",
     "output_type": "stream",
     "text": [
      "['conv2d_1', 'conv2d_2', 'max_pooling2d_1', 'dropout_1', 'flatten_1', 'dense_1', 'dropout_2', 'dense_2']\n"
     ]
    }
   ],
   "source": [
    "print([l.name for l in model.layers])"
   ]
  },
  {
   "cell_type": "code",
   "execution_count": 14,
   "metadata": {},
   "outputs": [
    {
     "name": "stdout",
     "output_type": "stream",
     "text": [
      "max_pooling2d_1\n",
      "(1, 11, 11, 32)\n"
     ]
    }
   ],
   "source": [
    "layer_num = 2\n",
    "print(model.layers[layer_num].name)\n",
    "print(act[layer_num].shape)"
   ]
  },
  {
   "cell_type": "code",
   "execution_count": 15,
   "metadata": {
    "scrolled": false
   },
   "outputs": [
    {
     "name": "stdout",
     "output_type": "stream",
     "text": [
      "max_pooling2d_1\n"
     ]
    },
    {
     "data": {
      "image/png": "[encoded data removed]",
      "text/plain": [
       "<Figure size 864x864 with 32 Axes>"
      ]
     },
     "metadata": {
      "needs_background": "light"
     },
     "output_type": "display_data"
    }
   ],
   "source": [
    "plt.figure(figsize=(12,12))\n",
    "print(model.layers[layer_num].name)\n",
    "for i in range(32):\n",
    "    plt.subplot(8,8,i+1)\n",
    "    plt.imshow(act[layer_num][0,:,:,i])"
   ]
  },
  {
   "cell_type": "code",
   "execution_count": null,
   "metadata": {},
   "outputs": [],
   "source": []
  }
 ],
 "metadata": {
  "kernelspec": {
   "display_name": "Python 3",
   "language": "python",
   "name": "python3"
  },
  "language_info": {
   "codemirror_mode": {
    "name": "ipython",
    "version": 3
   },
   "file_extension": ".py",
   "mimetype": "text/x-python",
   "name": "python",
   "nbconvert_exporter": "python",
   "pygments_lexer": "ipython3",
   "version": "3.6.2"
  }
 },
 "nbformat": 4,
 "nbformat_minor": 2
}
