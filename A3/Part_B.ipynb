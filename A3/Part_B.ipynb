{
 "cells": [
  {
   "cell_type": "code",
   "execution_count": 1,
   "metadata": {},
   "outputs": [
    {
     "name": "stderr",
     "output_type": "stream",
     "text": [
      "Using TensorFlow backend.\n"
     ]
    }
   ],
   "source": [
    "import numpy as np\n",
    "import pandas as pd\n",
    "import time\n",
    "from keras.layers import Dense\n",
    "from keras.models import Sequential\n",
    "from keras import optimizers\n",
    "import matplotlib.pyplot as plt"
   ]
  },
  {
   "cell_type": "code",
   "execution_count": 2,
   "metadata": {},
   "outputs": [],
   "source": [
    "data = pd.read_csv('2017EE30515.csv',header=None)"
   ]
  },
  {
   "cell_type": "code",
   "execution_count": 3,
   "metadata": {},
   "outputs": [],
   "source": [
    "X = data.iloc[:,:784]/255\n",
    "t = data.iloc[:,784]"
   ]
  },
  {
   "cell_type": "code",
   "execution_count": 4,
   "metadata": {},
   "outputs": [],
   "source": [
    "X_train = np.array(X[:2700])\n",
    "X_val = np.array(X[2700:])\n",
    "\n",
    "t_train = np.array(t[:2700])\n",
    "t_val = np.array(t[2700:])\n",
    "\n",
    "t_train_oh = np.zeros((len(t_train),10))\n",
    "t_val_oh = np.zeros((len(t_val),10))\n",
    "t_train_oh[np.arange(len(t_train)),t_train] = 1\n",
    "t_val_oh[np.arange(len(t_val)),t_val] = 1"
   ]
  },
  {
   "cell_type": "code",
   "execution_count": 5,
   "metadata": {},
   "outputs": [
    {
     "name": "stdout",
     "output_type": "stream",
     "text": [
      "_________________________________________________________________\n",
      "Layer (type)                 Output Shape              Param #   \n",
      "=================================================================\n",
      "dense_1 (Dense)              (None, 120)               94200     \n",
      "_________________________________________________________________\n",
      "dense_2 (Dense)              (None, 10)                1210      \n",
      "=================================================================\n",
      "Total params: 95,410\n",
      "Trainable params: 95,410\n",
      "Non-trainable params: 0\n",
      "_________________________________________________________________\n"
     ]
    }
   ],
   "source": [
    "model = Sequential()\n",
    "model.add(Dense(units=120, activation='tanh', kernel_initializer='random_normal', bias_initializer='random_normal', input_shape=(784,)))\n",
    "model.add(Dense(units=10, activation='softmax'))\n",
    "model.summary()"
   ]
  },
  {
   "cell_type": "code",
   "execution_count": 6,
   "metadata": {
    "scrolled": true
   },
   "outputs": [
    {
     "name": "stdout",
     "output_type": "stream",
     "text": [
      "Train on 2700 samples, validate on 300 samples\n",
      "Epoch 1/100\n",
      "2700/2700 [==============================] - 2s 773us/step - loss: 1.7784 - acc: 0.4970 - val_loss: 1.2944 - val_acc: 0.7300\n",
      "Epoch 2/100\n",
      "2700/2700 [==============================] - 0s 48us/step - loss: 1.0942 - acc: 0.7796 - val_loss: 0.9245 - val_acc: 0.8100\n",
      "Epoch 3/100\n",
      "2700/2700 [==============================] - 0s 49us/step - loss: 0.8341 - acc: 0.8259 - val_loss: 0.7675 - val_acc: 0.8400\n",
      "Epoch 4/100\n",
      "2700/2700 [==============================] - 0s 48us/step - loss: 0.7024 - acc: 0.8474 - val_loss: 0.6814 - val_acc: 0.8333\n",
      "Epoch 5/100\n",
      "2700/2700 [==============================] - 0s 49us/step - loss: 0.6214 - acc: 0.8570 - val_loss: 0.6222 - val_acc: 0.8567\n",
      "Epoch 6/100\n",
      "2700/2700 [==============================] - 0s 47us/step - loss: 0.5668 - acc: 0.8674 - val_loss: 0.5867 - val_acc: 0.8633\n",
      "Epoch 7/100\n",
      "2700/2700 [==============================] - 0s 50us/step - loss: 0.5261 - acc: 0.8781 - val_loss: 0.5608 - val_acc: 0.8633\n",
      "Epoch 8/100\n",
      "2700/2700 [==============================] - 0s 50us/step - loss: 0.4947 - acc: 0.8763 - val_loss: 0.5388 - val_acc: 0.8633\n",
      "Epoch 9/100\n",
      "2700/2700 [==============================] - 0s 47us/step - loss: 0.4687 - acc: 0.8837 - val_loss: 0.5191 - val_acc: 0.8733\n",
      "Epoch 10/100\n",
      "2700/2700 [==============================] - 0s 48us/step - loss: 0.4473 - acc: 0.8863 - val_loss: 0.5084 - val_acc: 0.8767\n",
      "Epoch 11/100\n",
      "2700/2700 [==============================] - 0s 46us/step - loss: 0.4290 - acc: 0.8900 - val_loss: 0.4944 - val_acc: 0.8867\n",
      "Epoch 12/100\n",
      "2700/2700 [==============================] - 0s 50us/step - loss: 0.4131 - acc: 0.8974 - val_loss: 0.4870 - val_acc: 0.8867\n",
      "Epoch 13/100\n",
      "2700/2700 [==============================] - 0s 48us/step - loss: 0.3988 - acc: 0.8989 - val_loss: 0.4793 - val_acc: 0.8900\n",
      "Epoch 14/100\n",
      "2700/2700 [==============================] - 0s 48us/step - loss: 0.3870 - acc: 0.9026 - val_loss: 0.4703 - val_acc: 0.8867\n",
      "Epoch 15/100\n",
      "2700/2700 [==============================] - 0s 48us/step - loss: 0.3761 - acc: 0.9030 - val_loss: 0.4652 - val_acc: 0.8900\n",
      "Epoch 16/100\n",
      "2700/2700 [==============================] - 0s 46us/step - loss: 0.3659 - acc: 0.9044 - val_loss: 0.4588 - val_acc: 0.8900\n",
      "Epoch 17/100\n",
      "2700/2700 [==============================] - 0s 47us/step - loss: 0.3563 - acc: 0.9070 - val_loss: 0.4548 - val_acc: 0.8900\n",
      "Epoch 18/100\n",
      "2700/2700 [==============================] - 0s 47us/step - loss: 0.3476 - acc: 0.9096 - val_loss: 0.4491 - val_acc: 0.8900\n",
      "Epoch 19/100\n",
      "2700/2700 [==============================] - 0s 48us/step - loss: 0.3390 - acc: 0.9111 - val_loss: 0.4474 - val_acc: 0.8900\n",
      "Epoch 20/100\n",
      "2700/2700 [==============================] - 0s 59us/step - loss: 0.3320 - acc: 0.9107 - val_loss: 0.4425 - val_acc: 0.8933\n",
      "Epoch 21/100\n",
      "2700/2700 [==============================] - 0s 58us/step - loss: 0.3252 - acc: 0.9144 - val_loss: 0.4382 - val_acc: 0.8933\n",
      "Epoch 22/100\n",
      "2700/2700 [==============================] - 0s 53us/step - loss: 0.3184 - acc: 0.9159 - val_loss: 0.4362 - val_acc: 0.8967\n",
      "Epoch 23/100\n",
      "2700/2700 [==============================] - 0s 51us/step - loss: 0.3123 - acc: 0.9141 - val_loss: 0.4348 - val_acc: 0.8933\n",
      "Epoch 24/100\n",
      "2700/2700 [==============================] - 0s 49us/step - loss: 0.3066 - acc: 0.9167 - val_loss: 0.4329 - val_acc: 0.8967\n",
      "Epoch 25/100\n",
      "2700/2700 [==============================] - 0s 58us/step - loss: 0.3001 - acc: 0.9167 - val_loss: 0.4315 - val_acc: 0.9000\n",
      "Epoch 26/100\n",
      "2700/2700 [==============================] - 0s 57us/step - loss: 0.2955 - acc: 0.9207 - val_loss: 0.4300 - val_acc: 0.8967\n",
      "Epoch 27/100\n",
      "2700/2700 [==============================] - 0s 48us/step - loss: 0.2905 - acc: 0.9219 - val_loss: 0.4277 - val_acc: 0.8967\n",
      "Epoch 28/100\n",
      "2700/2700 [==============================] - 0s 49us/step - loss: 0.2852 - acc: 0.9207 - val_loss: 0.4268 - val_acc: 0.9000\n",
      "Epoch 29/100\n",
      "2700/2700 [==============================] - 0s 49us/step - loss: 0.2803 - acc: 0.9248 - val_loss: 0.4243 - val_acc: 0.9033\n",
      "Epoch 30/100\n",
      "2700/2700 [==============================] - 0s 50us/step - loss: 0.2755 - acc: 0.9267 - val_loss: 0.4223 - val_acc: 0.9000\n",
      "Epoch 31/100\n",
      "2700/2700 [==============================] - 0s 48us/step - loss: 0.2718 - acc: 0.9281 - val_loss: 0.4203 - val_acc: 0.9000\n",
      "Epoch 32/100\n",
      "2700/2700 [==============================] - 0s 49us/step - loss: 0.2673 - acc: 0.9285 - val_loss: 0.4209 - val_acc: 0.9033\n",
      "Epoch 33/100\n",
      "2700/2700 [==============================] - 0s 48us/step - loss: 0.2628 - acc: 0.9307 - val_loss: 0.4199 - val_acc: 0.9000\n",
      "Epoch 34/100\n",
      "2700/2700 [==============================] - 0s 48us/step - loss: 0.2591 - acc: 0.9311 - val_loss: 0.4180 - val_acc: 0.9033\n",
      "Epoch 35/100\n",
      "2700/2700 [==============================] - 0s 47us/step - loss: 0.2555 - acc: 0.9344 - val_loss: 0.4180 - val_acc: 0.9033\n",
      "Epoch 36/100\n",
      "2700/2700 [==============================] - 0s 48us/step - loss: 0.2516 - acc: 0.9337 - val_loss: 0.4171 - val_acc: 0.9067\n",
      "Epoch 37/100\n",
      "2700/2700 [==============================] - 0s 48us/step - loss: 0.2478 - acc: 0.9356 - val_loss: 0.4142 - val_acc: 0.9000\n",
      "Epoch 38/100\n",
      "2700/2700 [==============================] - 0s 48us/step - loss: 0.2446 - acc: 0.9374 - val_loss: 0.4145 - val_acc: 0.9033\n",
      "Epoch 39/100\n",
      "2700/2700 [==============================] - 0s 47us/step - loss: 0.2407 - acc: 0.9389 - val_loss: 0.4145 - val_acc: 0.9067\n",
      "Epoch 40/100\n",
      "2700/2700 [==============================] - 0s 48us/step - loss: 0.2374 - acc: 0.9378 - val_loss: 0.4136 - val_acc: 0.9000\n",
      "Epoch 41/100\n",
      "2700/2700 [==============================] - 0s 53us/step - loss: 0.2344 - acc: 0.9400 - val_loss: 0.4139 - val_acc: 0.9033\n",
      "Epoch 42/100\n",
      "2700/2700 [==============================] - 0s 49us/step - loss: 0.2311 - acc: 0.9426 - val_loss: 0.4137 - val_acc: 0.9033\n",
      "Epoch 43/100\n",
      "2700/2700 [==============================] - 0s 48us/step - loss: 0.2281 - acc: 0.9430 - val_loss: 0.4130 - val_acc: 0.9067\n",
      "Epoch 44/100\n",
      "2700/2700 [==============================] - 0s 46us/step - loss: 0.2248 - acc: 0.9437 - val_loss: 0.4140 - val_acc: 0.9067\n",
      "Epoch 45/100\n",
      "2700/2700 [==============================] - 0s 49us/step - loss: 0.2218 - acc: 0.9441 - val_loss: 0.4131 - val_acc: 0.9033\n",
      "Epoch 46/100\n",
      "2700/2700 [==============================] - 0s 50us/step - loss: 0.2191 - acc: 0.9459 - val_loss: 0.4116 - val_acc: 0.9033\n",
      "Epoch 47/100\n",
      "2700/2700 [==============================] - 0s 49us/step - loss: 0.2161 - acc: 0.9463 - val_loss: 0.4138 - val_acc: 0.9067\n",
      "Epoch 48/100\n",
      "2700/2700 [==============================] - 0s 47us/step - loss: 0.2132 - acc: 0.9478 - val_loss: 0.4117 - val_acc: 0.9033\n",
      "Epoch 49/100\n",
      "2700/2700 [==============================] - 0s 51us/step - loss: 0.2109 - acc: 0.9485 - val_loss: 0.4127 - val_acc: 0.9033\n",
      "Epoch 50/100\n",
      "2700/2700 [==============================] - 0s 48us/step - loss: 0.2079 - acc: 0.9496 - val_loss: 0.4124 - val_acc: 0.9000\n",
      "Epoch 51/100\n",
      "2700/2700 [==============================] - 0s 47us/step - loss: 0.2054 - acc: 0.9485 - val_loss: 0.4123 - val_acc: 0.9033\n",
      "Epoch 52/100\n",
      "2700/2700 [==============================] - 0s 49us/step - loss: 0.2028 - acc: 0.9522 - val_loss: 0.4099 - val_acc: 0.9033\n",
      "Epoch 53/100\n",
      "2700/2700 [==============================] - 0s 49us/step - loss: 0.2003 - acc: 0.9530 - val_loss: 0.4121 - val_acc: 0.9000\n",
      "Epoch 54/100\n",
      "2700/2700 [==============================] - 0s 49us/step - loss: 0.1980 - acc: 0.9526 - val_loss: 0.4100 - val_acc: 0.8967\n",
      "Epoch 55/100\n",
      "2700/2700 [==============================] - 0s 49us/step - loss: 0.1953 - acc: 0.9548 - val_loss: 0.4095 - val_acc: 0.9033\n",
      "Epoch 56/100\n",
      "2700/2700 [==============================] - 0s 49us/step - loss: 0.1929 - acc: 0.9533 - val_loss: 0.4114 - val_acc: 0.9000\n",
      "Epoch 57/100\n",
      "2700/2700 [==============================] - 0s 48us/step - loss: 0.1907 - acc: 0.9567 - val_loss: 0.4141 - val_acc: 0.9033\n",
      "Epoch 58/100\n",
      "2700/2700 [==============================] - 0s 49us/step - loss: 0.1880 - acc: 0.9563 - val_loss: 0.4111 - val_acc: 0.9000\n",
      "Epoch 59/100\n",
      "2700/2700 [==============================] - 0s 50us/step - loss: 0.1859 - acc: 0.9567 - val_loss: 0.4104 - val_acc: 0.9033\n",
      "Epoch 60/100\n"
     ]
    },
    {
     "name": "stdout",
     "output_type": "stream",
     "text": [
      "2700/2700 [==============================] - 0s 48us/step - loss: 0.1840 - acc: 0.9567 - val_loss: 0.4113 - val_acc: 0.9000\n",
      "Epoch 61/100\n",
      "2700/2700 [==============================] - 0s 47us/step - loss: 0.1809 - acc: 0.9600 - val_loss: 0.4127 - val_acc: 0.9033\n",
      "Epoch 62/100\n",
      "2700/2700 [==============================] - 0s 46us/step - loss: 0.1796 - acc: 0.9615 - val_loss: 0.4129 - val_acc: 0.9033\n",
      "Epoch 63/100\n",
      "2700/2700 [==============================] - 0s 47us/step - loss: 0.1772 - acc: 0.9607 - val_loss: 0.4130 - val_acc: 0.9067\n",
      "Epoch 64/100\n",
      "2700/2700 [==============================] - 0s 48us/step - loss: 0.1752 - acc: 0.9596 - val_loss: 0.4118 - val_acc: 0.9033\n",
      "Epoch 65/100\n",
      "2700/2700 [==============================] - 0s 48us/step - loss: 0.1734 - acc: 0.9615 - val_loss: 0.4114 - val_acc: 0.9000\n",
      "Epoch 66/100\n",
      "2700/2700 [==============================] - 0s 47us/step - loss: 0.1713 - acc: 0.9622 - val_loss: 0.4125 - val_acc: 0.9067\n",
      "Epoch 67/100\n",
      "2700/2700 [==============================] - 0s 46us/step - loss: 0.1694 - acc: 0.9637 - val_loss: 0.4121 - val_acc: 0.9067\n",
      "Epoch 68/100\n",
      "2700/2700 [==============================] - 0s 46us/step - loss: 0.1671 - acc: 0.9633 - val_loss: 0.4128 - val_acc: 0.9033\n",
      "Epoch 69/100\n",
      "2700/2700 [==============================] - 0s 47us/step - loss: 0.1648 - acc: 0.9637 - val_loss: 0.4118 - val_acc: 0.9033\n",
      "Epoch 70/100\n",
      "2700/2700 [==============================] - 0s 46us/step - loss: 0.1637 - acc: 0.9626 - val_loss: 0.4132 - val_acc: 0.9033\n",
      "Epoch 71/100\n",
      "2700/2700 [==============================] - 0s 47us/step - loss: 0.1616 - acc: 0.9633 - val_loss: 0.4145 - val_acc: 0.9067\n",
      "Epoch 72/100\n",
      "2700/2700 [==============================] - 0s 47us/step - loss: 0.1596 - acc: 0.9637 - val_loss: 0.4125 - val_acc: 0.9033\n",
      "Epoch 73/100\n",
      "2700/2700 [==============================] - 0s 47us/step - loss: 0.1574 - acc: 0.9641 - val_loss: 0.4134 - val_acc: 0.9100\n",
      "Epoch 74/100\n",
      "2700/2700 [==============================] - 0s 48us/step - loss: 0.1553 - acc: 0.9659 - val_loss: 0.4118 - val_acc: 0.9033\n",
      "Epoch 75/100\n",
      "2700/2700 [==============================] - 0s 48us/step - loss: 0.1540 - acc: 0.9656 - val_loss: 0.4133 - val_acc: 0.9100\n",
      "Epoch 76/100\n",
      "2700/2700 [==============================] - 0s 48us/step - loss: 0.1520 - acc: 0.9663 - val_loss: 0.4142 - val_acc: 0.9033\n",
      "Epoch 77/100\n",
      "2700/2700 [==============================] - 0s 49us/step - loss: 0.1504 - acc: 0.9652 - val_loss: 0.4137 - val_acc: 0.9033\n",
      "Epoch 78/100\n",
      "2700/2700 [==============================] - 0s 48us/step - loss: 0.1484 - acc: 0.9659 - val_loss: 0.4135 - val_acc: 0.9033\n",
      "Epoch 79/100\n",
      "2700/2700 [==============================] - 0s 48us/step - loss: 0.1472 - acc: 0.9678 - val_loss: 0.4146 - val_acc: 0.9033\n",
      "Epoch 80/100\n",
      "2700/2700 [==============================] - 0s 46us/step - loss: 0.1453 - acc: 0.9670 - val_loss: 0.4162 - val_acc: 0.9000\n",
      "Epoch 81/100\n",
      "2700/2700 [==============================] - 0s 47us/step - loss: 0.1439 - acc: 0.9685 - val_loss: 0.4167 - val_acc: 0.9000\n",
      "Epoch 82/100\n",
      "2700/2700 [==============================] - 0s 47us/step - loss: 0.1426 - acc: 0.9670 - val_loss: 0.4153 - val_acc: 0.9100\n",
      "Epoch 83/100\n",
      "2700/2700 [==============================] - 0s 49us/step - loss: 0.1406 - acc: 0.9693 - val_loss: 0.4159 - val_acc: 0.9067\n",
      "Epoch 84/100\n",
      "2700/2700 [==============================] - 0s 47us/step - loss: 0.1390 - acc: 0.9685 - val_loss: 0.4157 - val_acc: 0.9000\n",
      "Epoch 85/100\n",
      "2700/2700 [==============================] - 0s 49us/step - loss: 0.1375 - acc: 0.9704 - val_loss: 0.4163 - val_acc: 0.9000\n",
      "Epoch 86/100\n",
      "2700/2700 [==============================] - 0s 48us/step - loss: 0.1357 - acc: 0.9715 - val_loss: 0.4160 - val_acc: 0.9067\n",
      "Epoch 87/100\n",
      "2700/2700 [==============================] - 0s 45us/step - loss: 0.1342 - acc: 0.9726 - val_loss: 0.4165 - val_acc: 0.9067\n",
      "Epoch 88/100\n",
      "2700/2700 [==============================] - 0s 52us/step - loss: 0.1328 - acc: 0.9707 - val_loss: 0.4148 - val_acc: 0.9100\n",
      "Epoch 89/100\n",
      "2700/2700 [==============================] - 0s 47us/step - loss: 0.1316 - acc: 0.9733 - val_loss: 0.4171 - val_acc: 0.9067\n",
      "Epoch 90/100\n",
      "2700/2700 [==============================] - 0s 48us/step - loss: 0.1299 - acc: 0.9726 - val_loss: 0.4186 - val_acc: 0.9033\n",
      "Epoch 91/100\n",
      "2700/2700 [==============================] - 0s 48us/step - loss: 0.1284 - acc: 0.9730 - val_loss: 0.4172 - val_acc: 0.9100\n",
      "Epoch 92/100\n",
      "2700/2700 [==============================] - 0s 47us/step - loss: 0.1276 - acc: 0.9752 - val_loss: 0.4180 - val_acc: 0.9033\n",
      "Epoch 93/100\n",
      "2700/2700 [==============================] - 0s 47us/step - loss: 0.1258 - acc: 0.9756 - val_loss: 0.4188 - val_acc: 0.9100\n",
      "Epoch 94/100\n",
      "2700/2700 [==============================] - 0s 47us/step - loss: 0.1242 - acc: 0.9744 - val_loss: 0.4191 - val_acc: 0.9000\n",
      "Epoch 95/100\n",
      "2700/2700 [==============================] - 0s 47us/step - loss: 0.1230 - acc: 0.9778 - val_loss: 0.4186 - val_acc: 0.9033\n",
      "Epoch 96/100\n",
      "2700/2700 [==============================] - 0s 47us/step - loss: 0.1215 - acc: 0.9781 - val_loss: 0.4188 - val_acc: 0.9067\n",
      "Epoch 97/100\n",
      "2700/2700 [==============================] - 0s 47us/step - loss: 0.1201 - acc: 0.9789 - val_loss: 0.4201 - val_acc: 0.9067\n",
      "Epoch 98/100\n",
      "2700/2700 [==============================] - 0s 47us/step - loss: 0.1189 - acc: 0.9778 - val_loss: 0.4187 - val_acc: 0.9067\n",
      "Epoch 99/100\n",
      "2700/2700 [==============================] - 0s 47us/step - loss: 0.1175 - acc: 0.9796 - val_loss: 0.4188 - val_acc: 0.9100\n",
      "Epoch 100/100\n",
      "2700/2700 [==============================] - 0s 47us/step - loss: 0.1166 - acc: 0.9796 - val_loss: 0.4196 - val_acc: 0.9067\n"
     ]
    }
   ],
   "source": [
    "gd = optimizers.SGD(lr=0.04)\n",
    "model.compile(optimizer=gd,loss='categorical_crossentropy',metrics=['accuracy'])\n",
    "history = model.fit(X_train,t_train_oh,batch_size=100,epochs=100,verbose=1,validation_data=(X_val,t_val_oh))"
   ]
  },
  {
   "cell_type": "code",
   "execution_count": 8,
   "metadata": {},
   "outputs": [
    {
     "data": {
      "image/png": "[encoded data removed]",
      "text/plain": [
       "<Figure size 432x288 with 1 Axes>"
      ]
     },
     "metadata": {
      "needs_background": "light"
     },
     "output_type": "display_data"
    }
   ],
   "source": [
    "plt.plot(history.history['loss'])\n",
    "plt.plot(history.history['val_loss'])\n",
    "plt.title('Error')\n",
    "plt.xlabel('epoch')\n",
    "plt.legend(['training', 'validation'], loc='best')\n",
    "plt.show()"
   ]
  },
  {
   "cell_type": "code",
   "execution_count": 9,
   "metadata": {},
   "outputs": [
    {
     "data": {
      "image/png": "[encoded data removed]",
      "text/plain": [
       "<Figure size 432x288 with 1 Axes>"
      ]
     },
     "metadata": {
      "needs_background": "light"
     },
     "output_type": "display_data"
    }
   ],
   "source": [
    "plt.plot(history.history['acc'])\n",
    "plt.plot(history.history['val_acc'])\n",
    "plt.title('Accuracy')\n",
    "plt.xlabel('Epoch')\n",
    "plt.legend(['training', 'validation'], loc='best')\n",
    "plt.show()"
   ]
  },
  {
   "cell_type": "code",
   "execution_count": null,
   "metadata": {},
   "outputs": [],
   "source": []
  }
 ],
 "metadata": {
  "kernelspec": {
   "display_name": "Python 3",
   "language": "python",
   "name": "python3"
  },
  "language_info": {
   "codemirror_mode": {
    "name": "ipython",
    "version": 3
   },
   "file_extension": ".py",
   "mimetype": "text/x-python",
   "name": "python",
   "nbconvert_exporter": "python",
   "pygments_lexer": "ipython3",
   "version": "3.6.2"
  }
 },
 "nbformat": 4,
 "nbformat_minor": 2
}
