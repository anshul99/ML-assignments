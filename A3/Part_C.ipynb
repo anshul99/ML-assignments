{
 "cells": [
  {
   "cell_type": "code",
   "execution_count": 1,
   "metadata": {},
   "outputs": [
    {
     "name": "stderr",
     "output_type": "stream",
     "text": [
      "Using TensorFlow backend.\n"
     ]
    }
   ],
   "source": [
    "import numpy as np\n",
    "import pandas as pd\n",
    "from keras.layers import Dense\n",
    "from keras.models import Sequential\n",
    "from keras import optimizers\n",
    "import matplotlib.pyplot as plt"
   ]
  },
  {
   "cell_type": "code",
   "execution_count": 2,
   "metadata": {},
   "outputs": [],
   "source": [
    "raw_data = pd.read_csv('2017EE30515.csv', header=None)\n",
    "pca_data = pd.read_csv('2017EE30515_pca.csv', header=None)"
   ]
  },
  {
   "cell_type": "code",
   "execution_count": 3,
   "metadata": {},
   "outputs": [],
   "source": [
    "X_raw = raw_data.iloc[:,:784]/255\n",
    "t_raw = raw_data.iloc[:,784]\n",
    "\n",
    "t_raw_oh = np.zeros((len(t_raw),10))\n",
    "t_raw_oh[np.arange(len(t_raw)),t_raw] = 1"
   ]
  },
  {
   "cell_type": "code",
   "execution_count": 4,
   "metadata": {},
   "outputs": [],
   "source": [
    "X_pca = pca_data.iloc[:,:25]\n",
    "t_pca = pca_data.iloc[:,25]\n",
    "\n",
    "t_pca_oh = np.zeros((len(t_pca),10))\n",
    "t_pca_oh[np.arange(len(t_pca)),t_pca] = 1"
   ]
  },
  {
   "cell_type": "code",
   "execution_count": 5,
   "metadata": {},
   "outputs": [
    {
     "name": "stdout",
     "output_type": "stream",
     "text": [
      "_________________________________________________________________\n",
      "Layer (type)                 Output Shape              Param #   \n",
      "=================================================================\n",
      "dense_1 (Dense)              (None, 15)                390       \n",
      "_________________________________________________________________\n",
      "dense_2 (Dense)              (None, 10)                160       \n",
      "=================================================================\n",
      "Total params: 550\n",
      "Trainable params: 550\n",
      "Non-trainable params: 0\n",
      "_________________________________________________________________\n"
     ]
    }
   ],
   "source": [
    "model1 = Sequential()\n",
    "model1.add(Dense(units=15, activation='relu', input_shape=(25,)))\n",
    "model1.add(Dense(units=10, activation='softmax'))\n",
    "#model1.add(Dense(units=10, activation='softmax', input_shape=(25,)))\n",
    "model1.summary()"
   ]
  },
  {
   "cell_type": "code",
   "execution_count": 6,
   "metadata": {
    "scrolled": true
   },
   "outputs": [
    {
     "name": "stdout",
     "output_type": "stream",
     "text": [
      "Train on 2700 samples, validate on 300 samples\n",
      "Epoch 1/100\n",
      "2700/2700 [==============================] - 2s 767us/step - loss: 2.2319 - acc: 0.2352 - val_loss: 1.8557 - val_acc: 0.3933\n",
      "Epoch 2/100\n",
      "2700/2700 [==============================] - 0s 37us/step - loss: 1.6685 - acc: 0.4804 - val_loss: 1.4467 - val_acc: 0.5767\n",
      "Epoch 3/100\n",
      "2700/2700 [==============================] - 0s 34us/step - loss: 1.3245 - acc: 0.6130 - val_loss: 1.1859 - val_acc: 0.6567\n",
      "Epoch 4/100\n",
      "2700/2700 [==============================] - 0s 34us/step - loss: 1.0976 - acc: 0.6804 - val_loss: 1.0117 - val_acc: 0.7067\n",
      "Epoch 5/100\n",
      "2700/2700 [==============================] - 0s 33us/step - loss: 0.9434 - acc: 0.7233 - val_loss: 0.8940 - val_acc: 0.7300\n",
      "Epoch 6/100\n",
      "2700/2700 [==============================] - 0s 34us/step - loss: 0.8351 - acc: 0.7526 - val_loss: 0.8110 - val_acc: 0.7467\n",
      "Epoch 7/100\n",
      "2700/2700 [==============================] - 0s 33us/step - loss: 0.7556 - acc: 0.7796 - val_loss: 0.7493 - val_acc: 0.7667\n",
      "Epoch 8/100\n",
      "2700/2700 [==============================] - 0s 34us/step - loss: 0.6955 - acc: 0.7952 - val_loss: 0.7021 - val_acc: 0.7767\n",
      "Epoch 9/100\n",
      "2700/2700 [==============================] - 0s 34us/step - loss: 0.6483 - acc: 0.8070 - val_loss: 0.6643 - val_acc: 0.7933\n",
      "Epoch 10/100\n",
      "2700/2700 [==============================] - 0s 34us/step - loss: 0.6103 - acc: 0.8193 - val_loss: 0.6333 - val_acc: 0.8033\n",
      "Epoch 11/100\n",
      "2700/2700 [==============================] - 0s 33us/step - loss: 0.5797 - acc: 0.8270 - val_loss: 0.6080 - val_acc: 0.8133\n",
      "Epoch 12/100\n",
      "2700/2700 [==============================] - 0s 33us/step - loss: 0.5529 - acc: 0.8389 - val_loss: 0.5864 - val_acc: 0.8333\n",
      "Epoch 13/100\n",
      "2700/2700 [==============================] - 0s 34us/step - loss: 0.5304 - acc: 0.8441 - val_loss: 0.5691 - val_acc: 0.8367\n",
      "Epoch 14/100\n",
      "2700/2700 [==============================] - 0s 34us/step - loss: 0.5110 - acc: 0.8489 - val_loss: 0.5535 - val_acc: 0.8433\n",
      "Epoch 15/100\n",
      "2700/2700 [==============================] - 0s 34us/step - loss: 0.4938 - acc: 0.8530 - val_loss: 0.5414 - val_acc: 0.8467\n",
      "Epoch 16/100\n",
      "2700/2700 [==============================] - 0s 34us/step - loss: 0.4788 - acc: 0.8559 - val_loss: 0.5303 - val_acc: 0.8600\n",
      "Epoch 17/100\n",
      "2700/2700 [==============================] - 0s 34us/step - loss: 0.4658 - acc: 0.8589 - val_loss: 0.5209 - val_acc: 0.8567\n",
      "Epoch 18/100\n",
      "2700/2700 [==============================] - 0s 35us/step - loss: 0.4537 - acc: 0.8641 - val_loss: 0.5124 - val_acc: 0.8633\n",
      "Epoch 19/100\n",
      "2700/2700 [==============================] - 0s 32us/step - loss: 0.4432 - acc: 0.8633 - val_loss: 0.5043 - val_acc: 0.8667\n",
      "Epoch 20/100\n",
      "2700/2700 [==============================] - 0s 33us/step - loss: 0.4335 - acc: 0.8689 - val_loss: 0.4973 - val_acc: 0.8633\n",
      "Epoch 21/100\n",
      "2700/2700 [==============================] - 0s 34us/step - loss: 0.4249 - acc: 0.8711 - val_loss: 0.4919 - val_acc: 0.8667\n",
      "Epoch 22/100\n",
      "2700/2700 [==============================] - 0s 34us/step - loss: 0.4168 - acc: 0.8752 - val_loss: 0.4863 - val_acc: 0.8633\n",
      "Epoch 23/100\n",
      "2700/2700 [==============================] - 0s 34us/step - loss: 0.4093 - acc: 0.8748 - val_loss: 0.4811 - val_acc: 0.8633\n",
      "Epoch 24/100\n",
      "2700/2700 [==============================] - 0s 33us/step - loss: 0.4027 - acc: 0.8774 - val_loss: 0.4759 - val_acc: 0.8633\n",
      "Epoch 25/100\n",
      "2700/2700 [==============================] - 0s 34us/step - loss: 0.3963 - acc: 0.8793 - val_loss: 0.4717 - val_acc: 0.8667\n",
      "Epoch 26/100\n",
      "2700/2700 [==============================] - 0s 34us/step - loss: 0.3906 - acc: 0.8822 - val_loss: 0.4683 - val_acc: 0.8700\n",
      "Epoch 27/100\n",
      "2700/2700 [==============================] - 0s 33us/step - loss: 0.3854 - acc: 0.8841 - val_loss: 0.4647 - val_acc: 0.8700\n",
      "Epoch 28/100\n",
      "2700/2700 [==============================] - 0s 34us/step - loss: 0.3803 - acc: 0.8859 - val_loss: 0.4612 - val_acc: 0.8700\n",
      "Epoch 29/100\n",
      "2700/2700 [==============================] - 0s 40us/step - loss: 0.3755 - acc: 0.8863 - val_loss: 0.4576 - val_acc: 0.8667\n",
      "Epoch 30/100\n",
      "2700/2700 [==============================] - 0s 42us/step - loss: 0.3706 - acc: 0.8874 - val_loss: 0.4549 - val_acc: 0.8667\n",
      "Epoch 31/100\n",
      "2700/2700 [==============================] - 0s 41us/step - loss: 0.3667 - acc: 0.8896 - val_loss: 0.4520 - val_acc: 0.8667\n",
      "Epoch 32/100\n",
      "2700/2700 [==============================] - 0s 39us/step - loss: 0.3625 - acc: 0.8881 - val_loss: 0.4496 - val_acc: 0.8667\n",
      "Epoch 33/100\n",
      "2700/2700 [==============================] - 0s 43us/step - loss: 0.3585 - acc: 0.8919 - val_loss: 0.4471 - val_acc: 0.8700\n",
      "Epoch 34/100\n",
      "2700/2700 [==============================] - 0s 44us/step - loss: 0.3550 - acc: 0.8922 - val_loss: 0.4443 - val_acc: 0.8733\n",
      "Epoch 35/100\n",
      "2700/2700 [==============================] - 0s 44us/step - loss: 0.3512 - acc: 0.8941 - val_loss: 0.4423 - val_acc: 0.8733\n",
      "Epoch 36/100\n",
      "2700/2700 [==============================] - 0s 41us/step - loss: 0.3482 - acc: 0.8930 - val_loss: 0.4391 - val_acc: 0.8733\n",
      "Epoch 37/100\n",
      "2700/2700 [==============================] - 0s 38us/step - loss: 0.3452 - acc: 0.8956 - val_loss: 0.4366 - val_acc: 0.8733\n",
      "Epoch 38/100\n",
      "2700/2700 [==============================] - 0s 40us/step - loss: 0.3422 - acc: 0.8948 - val_loss: 0.4345 - val_acc: 0.8733\n",
      "Epoch 39/100\n",
      "2700/2700 [==============================] - 0s 36us/step - loss: 0.3392 - acc: 0.8959 - val_loss: 0.4322 - val_acc: 0.8767\n",
      "Epoch 40/100\n",
      "2700/2700 [==============================] - 0s 35us/step - loss: 0.3367 - acc: 0.8967 - val_loss: 0.4293 - val_acc: 0.8767\n",
      "Epoch 41/100\n",
      "2700/2700 [==============================] - 0s 35us/step - loss: 0.3339 - acc: 0.8967 - val_loss: 0.4278 - val_acc: 0.8800\n",
      "Epoch 42/100\n",
      "2700/2700 [==============================] - 0s 35us/step - loss: 0.3316 - acc: 0.8989 - val_loss: 0.4263 - val_acc: 0.8767\n",
      "Epoch 43/100\n",
      "2700/2700 [==============================] - 0s 34us/step - loss: 0.3289 - acc: 0.9000 - val_loss: 0.4255 - val_acc: 0.8800\n",
      "Epoch 44/100\n",
      "2700/2700 [==============================] - 0s 35us/step - loss: 0.3262 - acc: 0.9015 - val_loss: 0.4237 - val_acc: 0.8800\n",
      "Epoch 45/100\n",
      "2700/2700 [==============================] - 0s 34us/step - loss: 0.3239 - acc: 0.8996 - val_loss: 0.4222 - val_acc: 0.8800\n",
      "Epoch 46/100\n",
      "2700/2700 [==============================] - 0s 34us/step - loss: 0.3217 - acc: 0.9015 - val_loss: 0.4206 - val_acc: 0.8767\n",
      "Epoch 47/100\n",
      "2700/2700 [==============================] - 0s 34us/step - loss: 0.3195 - acc: 0.9011 - val_loss: 0.4186 - val_acc: 0.8767\n",
      "Epoch 48/100\n",
      "2700/2700 [==============================] - 0s 33us/step - loss: 0.3172 - acc: 0.9026 - val_loss: 0.4167 - val_acc: 0.8733\n",
      "Epoch 49/100\n",
      "2700/2700 [==============================] - 0s 36us/step - loss: 0.3151 - acc: 0.9041 - val_loss: 0.4156 - val_acc: 0.8733\n",
      "Epoch 50/100\n",
      "2700/2700 [==============================] - 0s 33us/step - loss: 0.3128 - acc: 0.9000 - val_loss: 0.4138 - val_acc: 0.8733\n",
      "Epoch 51/100\n",
      "2700/2700 [==============================] - 0s 34us/step - loss: 0.3108 - acc: 0.9026 - val_loss: 0.4129 - val_acc: 0.8733\n",
      "Epoch 52/100\n",
      "2700/2700 [==============================] - 0s 34us/step - loss: 0.3089 - acc: 0.9044 - val_loss: 0.4116 - val_acc: 0.8733\n",
      "Epoch 53/100\n",
      "2700/2700 [==============================] - 0s 38us/step - loss: 0.3071 - acc: 0.9041 - val_loss: 0.4101 - val_acc: 0.8767\n",
      "Epoch 54/100\n",
      "2700/2700 [==============================] - 0s 50us/step - loss: 0.3051 - acc: 0.9059 - val_loss: 0.4084 - val_acc: 0.8767\n",
      "Epoch 55/100\n",
      "2700/2700 [==============================] - 0s 45us/step - loss: 0.3034 - acc: 0.9081 - val_loss: 0.4087 - val_acc: 0.8767\n",
      "Epoch 56/100\n",
      "2700/2700 [==============================] - 0s 37us/step - loss: 0.3014 - acc: 0.9067 - val_loss: 0.4067 - val_acc: 0.8800\n",
      "Epoch 57/100\n",
      "2700/2700 [==============================] - 0s 43us/step - loss: 0.2998 - acc: 0.9067 - val_loss: 0.4059 - val_acc: 0.8800\n",
      "Epoch 58/100\n",
      "2700/2700 [==============================] - 0s 44us/step - loss: 0.2980 - acc: 0.9081 - val_loss: 0.4036 - val_acc: 0.8867\n",
      "Epoch 59/100\n",
      "2700/2700 [==============================] - 0s 41us/step - loss: 0.2962 - acc: 0.9081 - val_loss: 0.4031 - val_acc: 0.8833\n",
      "Epoch 60/100\n"
     ]
    },
    {
     "name": "stdout",
     "output_type": "stream",
     "text": [
      "2700/2700 [==============================] - 0s 34us/step - loss: 0.2944 - acc: 0.9093 - val_loss: 0.4026 - val_acc: 0.8833\n",
      "Epoch 61/100\n",
      "2700/2700 [==============================] - 0s 34us/step - loss: 0.2927 - acc: 0.9104 - val_loss: 0.4017 - val_acc: 0.8833\n",
      "Epoch 62/100\n",
      "2700/2700 [==============================] - 0s 52us/step - loss: 0.2910 - acc: 0.9111 - val_loss: 0.3997 - val_acc: 0.8833\n",
      "Epoch 63/100\n",
      "2700/2700 [==============================] - 0s 39us/step - loss: 0.2895 - acc: 0.9126 - val_loss: 0.3995 - val_acc: 0.8833\n",
      "Epoch 64/100\n",
      "2700/2700 [==============================] - 0s 33us/step - loss: 0.2878 - acc: 0.9119 - val_loss: 0.3979 - val_acc: 0.8833\n",
      "Epoch 65/100\n",
      "2700/2700 [==============================] - 0s 33us/step - loss: 0.2864 - acc: 0.9107 - val_loss: 0.3978 - val_acc: 0.8833\n",
      "Epoch 66/100\n",
      "2700/2700 [==============================] - 0s 34us/step - loss: 0.2850 - acc: 0.9119 - val_loss: 0.3965 - val_acc: 0.8833\n",
      "Epoch 67/100\n",
      "2700/2700 [==============================] - 0s 46us/step - loss: 0.2834 - acc: 0.9141 - val_loss: 0.3954 - val_acc: 0.8833\n",
      "Epoch 68/100\n",
      "2700/2700 [==============================] - 0s 42us/step - loss: 0.2821 - acc: 0.9122 - val_loss: 0.3942 - val_acc: 0.8833\n",
      "Epoch 69/100\n",
      "2700/2700 [==============================] - 0s 34us/step - loss: 0.2806 - acc: 0.9141 - val_loss: 0.3935 - val_acc: 0.8833\n",
      "Epoch 70/100\n",
      "2700/2700 [==============================] - 0s 32us/step - loss: 0.2792 - acc: 0.9152 - val_loss: 0.3925 - val_acc: 0.8833\n",
      "Epoch 71/100\n",
      "2700/2700 [==============================] - 0s 34us/step - loss: 0.2773 - acc: 0.9159 - val_loss: 0.3925 - val_acc: 0.8867\n",
      "Epoch 72/100\n",
      "2700/2700 [==============================] - 0s 48us/step - loss: 0.2764 - acc: 0.9156 - val_loss: 0.3911 - val_acc: 0.8867\n",
      "Epoch 73/100\n",
      "2700/2700 [==============================] - 0s 43us/step - loss: 0.2748 - acc: 0.9185 - val_loss: 0.3913 - val_acc: 0.8867\n",
      "Epoch 74/100\n",
      "2700/2700 [==============================] - 0s 34us/step - loss: 0.2738 - acc: 0.9170 - val_loss: 0.3904 - val_acc: 0.8867\n",
      "Epoch 75/100\n",
      "2700/2700 [==============================] - 0s 34us/step - loss: 0.2722 - acc: 0.9178 - val_loss: 0.3894 - val_acc: 0.8867\n",
      "Epoch 76/100\n",
      "2700/2700 [==============================] - 0s 35us/step - loss: 0.2712 - acc: 0.9174 - val_loss: 0.3887 - val_acc: 0.8900\n",
      "Epoch 77/100\n",
      "2700/2700 [==============================] - 0s 32us/step - loss: 0.2699 - acc: 0.9185 - val_loss: 0.3882 - val_acc: 0.8867\n",
      "Epoch 78/100\n",
      "2700/2700 [==============================] - 0s 33us/step - loss: 0.2686 - acc: 0.9181 - val_loss: 0.3867 - val_acc: 0.8900\n",
      "Epoch 79/100\n",
      "2700/2700 [==============================] - 0s 34us/step - loss: 0.2676 - acc: 0.9200 - val_loss: 0.3857 - val_acc: 0.8900\n",
      "Epoch 80/100\n",
      "2700/2700 [==============================] - 0s 48us/step - loss: 0.2662 - acc: 0.9200 - val_loss: 0.3857 - val_acc: 0.8933\n",
      "Epoch 81/100\n",
      "2700/2700 [==============================] - 0s 45us/step - loss: 0.2650 - acc: 0.9193 - val_loss: 0.3856 - val_acc: 0.8933\n",
      "Epoch 82/100\n",
      "2700/2700 [==============================] - 0s 44us/step - loss: 0.2641 - acc: 0.9193 - val_loss: 0.3858 - val_acc: 0.8933\n",
      "Epoch 83/100\n",
      "2700/2700 [==============================] - 0s 40us/step - loss: 0.2632 - acc: 0.9196 - val_loss: 0.3852 - val_acc: 0.8933\n",
      "Epoch 84/100\n",
      "2700/2700 [==============================] - 0s 52us/step - loss: 0.2614 - acc: 0.9185 - val_loss: 0.3829 - val_acc: 0.8933\n",
      "Epoch 85/100\n",
      "2700/2700 [==============================] - 0s 42us/step - loss: 0.2607 - acc: 0.9196 - val_loss: 0.3834 - val_acc: 0.8900\n",
      "Epoch 86/100\n",
      "2700/2700 [==============================] - 0s 37us/step - loss: 0.2594 - acc: 0.9204 - val_loss: 0.3829 - val_acc: 0.8933\n",
      "Epoch 87/100\n",
      "2700/2700 [==============================] - 0s 35us/step - loss: 0.2585 - acc: 0.9189 - val_loss: 0.3819 - val_acc: 0.8900\n",
      "Epoch 88/100\n",
      "2700/2700 [==============================] - 0s 41us/step - loss: 0.2574 - acc: 0.9204 - val_loss: 0.3818 - val_acc: 0.8933\n",
      "Epoch 89/100\n",
      "2700/2700 [==============================] - 0s 42us/step - loss: 0.2565 - acc: 0.9204 - val_loss: 0.3815 - val_acc: 0.8933\n",
      "Epoch 90/100\n",
      "2700/2700 [==============================] - 0s 39us/step - loss: 0.2554 - acc: 0.9200 - val_loss: 0.3819 - val_acc: 0.8900\n",
      "Epoch 91/100\n",
      "2700/2700 [==============================] - 0s 35us/step - loss: 0.2542 - acc: 0.9226 - val_loss: 0.3809 - val_acc: 0.8933\n",
      "Epoch 92/100\n",
      "2700/2700 [==============================] - 0s 33us/step - loss: 0.2532 - acc: 0.9215 - val_loss: 0.3812 - val_acc: 0.8933\n",
      "Epoch 93/100\n",
      "2700/2700 [==============================] - 0s 33us/step - loss: 0.2521 - acc: 0.9226 - val_loss: 0.3805 - val_acc: 0.8967\n",
      "Epoch 94/100\n",
      "2700/2700 [==============================] - 0s 34us/step - loss: 0.2509 - acc: 0.9226 - val_loss: 0.3801 - val_acc: 0.8933\n",
      "Epoch 95/100\n",
      "2700/2700 [==============================] - 0s 35us/step - loss: 0.2501 - acc: 0.9211 - val_loss: 0.3789 - val_acc: 0.8967\n",
      "Epoch 96/100\n",
      "2700/2700 [==============================] - 0s 33us/step - loss: 0.2493 - acc: 0.9226 - val_loss: 0.3792 - val_acc: 0.8933\n",
      "Epoch 97/100\n",
      "2700/2700 [==============================] - 0s 33us/step - loss: 0.2481 - acc: 0.9226 - val_loss: 0.3786 - val_acc: 0.8967\n",
      "Epoch 98/100\n",
      "2700/2700 [==============================] - 0s 44us/step - loss: 0.2473 - acc: 0.9222 - val_loss: 0.3781 - val_acc: 0.9000\n",
      "Epoch 99/100\n",
      "2700/2700 [==============================] - 0s 44us/step - loss: 0.2463 - acc: 0.9233 - val_loss: 0.3783 - val_acc: 0.9000\n",
      "Epoch 100/100\n",
      "2700/2700 [==============================] - 0s 44us/step - loss: 0.2456 - acc: 0.9219 - val_loss: 0.3782 - val_acc: 0.9000\n"
     ]
    }
   ],
   "source": [
    "gd = optimizers.SGD(lr=0.05)\n",
    "model1.compile(optimizer=gd,loss='categorical_crossentropy',metrics=['accuracy'])\n",
    "history = model1.fit(X_pca,t_pca_oh,batch_size=100,epochs=100,verbose=1,validation_split=0.1)"
   ]
  },
  {
   "cell_type": "code",
   "execution_count": 7,
   "metadata": {},
   "outputs": [
    {
     "data": {
      "image/png": "[encoded data removed]",
      "text/plain": [
       "<Figure size 432x288 with 1 Axes>"
      ]
     },
     "metadata": {
      "needs_background": "light"
     },
     "output_type": "display_data"
    }
   ],
   "source": [
    "plt.plot(history.history['loss'])\n",
    "plt.plot(history.history['val_loss'])\n",
    "plt.title('Error')\n",
    "plt.xlabel('epoch')\n",
    "plt.legend(['training', 'validation'], loc='best')\n",
    "plt.show()"
   ]
  },
  {
   "cell_type": "code",
   "execution_count": 8,
   "metadata": {},
   "outputs": [
    {
     "data": {
      "image/png": "[encoded data removed]",
      "text/plain": [
       "<Figure size 432x288 with 1 Axes>"
      ]
     },
     "metadata": {
      "needs_background": "light"
     },
     "output_type": "display_data"
    }
   ],
   "source": [
    "plt.plot(history.history['acc'])\n",
    "plt.plot(history.history['val_acc'])\n",
    "plt.title('Accuracy')\n",
    "plt.xlabel('Epoch')\n",
    "plt.legend(['training', 'validation'], loc='best')\n",
    "plt.show()"
   ]
  },
  {
   "cell_type": "code",
   "execution_count": 9,
   "metadata": {},
   "outputs": [
    {
     "name": "stdout",
     "output_type": "stream",
     "text": [
      "_________________________________________________________________\n",
      "Layer (type)                 Output Shape              Param #   \n",
      "=================================================================\n",
      "dense_3 (Dense)              (None, 15)                11775     \n",
      "_________________________________________________________________\n",
      "dense_4 (Dense)              (None, 10)                160       \n",
      "=================================================================\n",
      "Total params: 11,935\n",
      "Trainable params: 11,935\n",
      "Non-trainable params: 0\n",
      "_________________________________________________________________\n"
     ]
    }
   ],
   "source": [
    "model2 = Sequential()\n",
    "model2.add(Dense(units=15, activation='relu', input_shape=(784,)))\n",
    "model2.add(Dense(units=10, activation='softmax'))\n",
    "#model2.add(Dense(units=10, activation='softmax', input_shape=(784,)))\n",
    "model2.summary()"
   ]
  },
  {
   "cell_type": "code",
   "execution_count": 10,
   "metadata": {
    "scrolled": true
   },
   "outputs": [
    {
     "name": "stdout",
     "output_type": "stream",
     "text": [
      "Train on 2700 samples, validate on 300 samples\n",
      "Epoch 1/100\n",
      "2700/2700 [==============================] - 0s 105us/step - loss: 2.1049 - acc: 0.2544 - val_loss: 1.8865 - val_acc: 0.3667\n",
      "Epoch 2/100\n",
      "2700/2700 [==============================] - 0s 46us/step - loss: 1.6983 - acc: 0.4437 - val_loss: 1.5385 - val_acc: 0.5600\n",
      "Epoch 3/100\n",
      "2700/2700 [==============================] - 0s 44us/step - loss: 1.3386 - acc: 0.6559 - val_loss: 1.1984 - val_acc: 0.7300\n",
      "Epoch 4/100\n",
      "2700/2700 [==============================] - 0s 40us/step - loss: 1.0213 - acc: 0.7970 - val_loss: 0.9436 - val_acc: 0.7933\n",
      "Epoch 5/100\n",
      "2700/2700 [==============================] - 0s 46us/step - loss: 0.8124 - acc: 0.8304 - val_loss: 0.7968 - val_acc: 0.8233\n",
      "Epoch 6/100\n",
      "2700/2700 [==============================] - 0s 47us/step - loss: 0.6855 - acc: 0.8485 - val_loss: 0.7092 - val_acc: 0.8300\n",
      "Epoch 7/100\n",
      "2700/2700 [==============================] - 0s 45us/step - loss: 0.6024 - acc: 0.8581 - val_loss: 0.6494 - val_acc: 0.8500\n",
      "Epoch 8/100\n",
      "2700/2700 [==============================] - 0s 45us/step - loss: 0.5467 - acc: 0.8689 - val_loss: 0.6026 - val_acc: 0.8500\n",
      "Epoch 9/100\n",
      "2700/2700 [==============================] - 0s 45us/step - loss: 0.5023 - acc: 0.8767 - val_loss: 0.5766 - val_acc: 0.8667\n",
      "Epoch 10/100\n",
      "2700/2700 [==============================] - 0s 45us/step - loss: 0.4713 - acc: 0.8833 - val_loss: 0.5563 - val_acc: 0.8567\n",
      "Epoch 11/100\n",
      "2700/2700 [==============================] - 0s 40us/step - loss: 0.4447 - acc: 0.8863 - val_loss: 0.5350 - val_acc: 0.8667\n",
      "Epoch 12/100\n",
      "2700/2700 [==============================] - 0s 47us/step - loss: 0.4229 - acc: 0.8900 - val_loss: 0.5162 - val_acc: 0.8700\n",
      "Epoch 13/100\n",
      "2700/2700 [==============================] - 0s 44us/step - loss: 0.4058 - acc: 0.8937 - val_loss: 0.5038 - val_acc: 0.8733\n",
      "Epoch 14/100\n",
      "2700/2700 [==============================] - 0s 43us/step - loss: 0.3894 - acc: 0.8978 - val_loss: 0.4942 - val_acc: 0.8800\n",
      "Epoch 15/100\n",
      "2700/2700 [==============================] - 0s 45us/step - loss: 0.3763 - acc: 0.9004 - val_loss: 0.4817 - val_acc: 0.8800\n",
      "Epoch 16/100\n",
      "2700/2700 [==============================] - 0s 44us/step - loss: 0.3646 - acc: 0.9037 - val_loss: 0.4797 - val_acc: 0.8867\n",
      "Epoch 17/100\n",
      "2700/2700 [==============================] - 0s 45us/step - loss: 0.3529 - acc: 0.9070 - val_loss: 0.4704 - val_acc: 0.8833\n",
      "Epoch 18/100\n",
      "2700/2700 [==============================] - 0s 45us/step - loss: 0.3416 - acc: 0.9119 - val_loss: 0.4669 - val_acc: 0.8933\n",
      "Epoch 19/100\n",
      "2700/2700 [==============================] - 0s 42us/step - loss: 0.3347 - acc: 0.9104 - val_loss: 0.4589 - val_acc: 0.9000\n",
      "Epoch 20/100\n",
      "2700/2700 [==============================] - 0s 47us/step - loss: 0.3257 - acc: 0.9148 - val_loss: 0.4515 - val_acc: 0.8933\n",
      "Epoch 21/100\n",
      "2700/2700 [==============================] - 0s 45us/step - loss: 0.3178 - acc: 0.9133 - val_loss: 0.4469 - val_acc: 0.8900\n",
      "Epoch 22/100\n",
      "2700/2700 [==============================] - 0s 45us/step - loss: 0.3100 - acc: 0.9167 - val_loss: 0.4485 - val_acc: 0.8933\n",
      "Epoch 23/100\n",
      "2700/2700 [==============================] - 0s 45us/step - loss: 0.3030 - acc: 0.9159 - val_loss: 0.4452 - val_acc: 0.9000\n",
      "Epoch 24/100\n",
      "2700/2700 [==============================] - 0s 48us/step - loss: 0.2968 - acc: 0.9159 - val_loss: 0.4477 - val_acc: 0.8967\n",
      "Epoch 25/100\n",
      "2700/2700 [==============================] - 0s 46us/step - loss: 0.2888 - acc: 0.9233 - val_loss: 0.4490 - val_acc: 0.9067\n",
      "Epoch 26/100\n",
      "2700/2700 [==============================] - 0s 45us/step - loss: 0.2850 - acc: 0.9196 - val_loss: 0.4410 - val_acc: 0.8967\n",
      "Epoch 27/100\n",
      "2700/2700 [==============================] - 0s 53us/step - loss: 0.2780 - acc: 0.9222 - val_loss: 0.4346 - val_acc: 0.9067\n",
      "Epoch 28/100\n",
      "2700/2700 [==============================] - 0s 59us/step - loss: 0.2753 - acc: 0.9244 - val_loss: 0.4372 - val_acc: 0.9033\n",
      "Epoch 29/100\n",
      "2700/2700 [==============================] - 0s 51us/step - loss: 0.2678 - acc: 0.9259 - val_loss: 0.4339 - val_acc: 0.9067\n",
      "Epoch 30/100\n",
      "2700/2700 [==============================] - 0s 49us/step - loss: 0.2636 - acc: 0.9285 - val_loss: 0.4345 - val_acc: 0.9033\n",
      "Epoch 31/100\n",
      "2700/2700 [==============================] - 0s 58us/step - loss: 0.2595 - acc: 0.9285 - val_loss: 0.4347 - val_acc: 0.9067\n",
      "Epoch 32/100\n",
      "2700/2700 [==============================] - 0s 55us/step - loss: 0.2549 - acc: 0.9319 - val_loss: 0.4308 - val_acc: 0.9067\n",
      "Epoch 33/100\n",
      "2700/2700 [==============================] - 0s 45us/step - loss: 0.2512 - acc: 0.9315 - val_loss: 0.4309 - val_acc: 0.9100\n",
      "Epoch 34/100\n",
      "2700/2700 [==============================] - 0s 45us/step - loss: 0.2458 - acc: 0.9330 - val_loss: 0.4329 - val_acc: 0.9033\n",
      "Epoch 35/100\n",
      "2700/2700 [==============================] - 0s 46us/step - loss: 0.2422 - acc: 0.9311 - val_loss: 0.4361 - val_acc: 0.9033\n",
      "Epoch 36/100\n",
      "2700/2700 [==============================] - 0s 45us/step - loss: 0.2383 - acc: 0.9359 - val_loss: 0.4285 - val_acc: 0.9033\n",
      "Epoch 37/100\n",
      "2700/2700 [==============================] - 0s 41us/step - loss: 0.2340 - acc: 0.9400 - val_loss: 0.4322 - val_acc: 0.9033\n",
      "Epoch 38/100\n",
      "2700/2700 [==============================] - 0s 49us/step - loss: 0.2308 - acc: 0.9389 - val_loss: 0.4303 - val_acc: 0.9033\n",
      "Epoch 39/100\n",
      "2700/2700 [==============================] - 0s 45us/step - loss: 0.2275 - acc: 0.9415 - val_loss: 0.4331 - val_acc: 0.9067\n",
      "Epoch 40/100\n",
      "2700/2700 [==============================] - 0s 45us/step - loss: 0.2238 - acc: 0.9426 - val_loss: 0.4294 - val_acc: 0.9033\n",
      "Epoch 41/100\n",
      "2700/2700 [==============================] - 0s 47us/step - loss: 0.2196 - acc: 0.9419 - val_loss: 0.4292 - val_acc: 0.9033\n",
      "Epoch 42/100\n",
      "2700/2700 [==============================] - 0s 45us/step - loss: 0.2172 - acc: 0.9433 - val_loss: 0.4288 - val_acc: 0.9067\n",
      "Epoch 43/100\n",
      "2700/2700 [==============================] - 0s 46us/step - loss: 0.2131 - acc: 0.9467 - val_loss: 0.4263 - val_acc: 0.9000\n",
      "Epoch 44/100\n",
      "2700/2700 [==============================] - 0s 45us/step - loss: 0.2109 - acc: 0.9430 - val_loss: 0.4352 - val_acc: 0.9033\n",
      "Epoch 45/100\n",
      "2700/2700 [==============================] - 0s 44us/step - loss: 0.2088 - acc: 0.9448 - val_loss: 0.4312 - val_acc: 0.9000\n",
      "Epoch 46/100\n",
      "2700/2700 [==============================] - 0s 45us/step - loss: 0.2042 - acc: 0.9485 - val_loss: 0.4325 - val_acc: 0.9000\n",
      "Epoch 47/100\n",
      "2700/2700 [==============================] - 0s 45us/step - loss: 0.2013 - acc: 0.9493 - val_loss: 0.4361 - val_acc: 0.9000\n",
      "Epoch 48/100\n",
      "2700/2700 [==============================] - 0s 49us/step - loss: 0.1997 - acc: 0.9481 - val_loss: 0.4361 - val_acc: 0.9033\n",
      "Epoch 49/100\n",
      "2700/2700 [==============================] - 0s 59us/step - loss: 0.1963 - acc: 0.9489 - val_loss: 0.4352 - val_acc: 0.8933\n",
      "Epoch 50/100\n",
      "2700/2700 [==============================] - 0s 55us/step - loss: 0.1925 - acc: 0.9515 - val_loss: 0.4338 - val_acc: 0.9000\n",
      "Epoch 51/100\n",
      "2700/2700 [==============================] - 0s 46us/step - loss: 0.1911 - acc: 0.9522 - val_loss: 0.4370 - val_acc: 0.9000\n",
      "Epoch 52/100\n",
      "2700/2700 [==============================] - 0s 53us/step - loss: 0.1878 - acc: 0.9511 - val_loss: 0.4399 - val_acc: 0.9033\n",
      "Epoch 53/100\n",
      "2700/2700 [==============================] - 0s 63us/step - loss: 0.1866 - acc: 0.9519 - val_loss: 0.4357 - val_acc: 0.9000\n",
      "Epoch 54/100\n",
      "2700/2700 [==============================] - 0s 57us/step - loss: 0.1841 - acc: 0.9522 - val_loss: 0.4328 - val_acc: 0.9067\n",
      "Epoch 55/100\n",
      "2700/2700 [==============================] - 0s 56us/step - loss: 0.1816 - acc: 0.9537 - val_loss: 0.4346 - val_acc: 0.9067\n",
      "Epoch 56/100\n",
      "2700/2700 [==============================] - 0s 47us/step - loss: 0.1785 - acc: 0.9533 - val_loss: 0.4378 - val_acc: 0.9000\n",
      "Epoch 57/100\n",
      "2700/2700 [==============================] - 0s 58us/step - loss: 0.1772 - acc: 0.9541 - val_loss: 0.4410 - val_acc: 0.9000\n",
      "Epoch 58/100\n",
      "2700/2700 [==============================] - 0s 54us/step - loss: 0.1741 - acc: 0.9589 - val_loss: 0.4332 - val_acc: 0.9000\n",
      "Epoch 59/100\n",
      "2700/2700 [==============================] - 0s 48us/step - loss: 0.1716 - acc: 0.9593 - val_loss: 0.4379 - val_acc: 0.9067\n",
      "Epoch 60/100\n"
     ]
    },
    {
     "name": "stdout",
     "output_type": "stream",
     "text": [
      "2700/2700 [==============================] - 0s 59us/step - loss: 0.1698 - acc: 0.9574 - val_loss: 0.4411 - val_acc: 0.9033\n",
      "Epoch 61/100\n",
      "2700/2700 [==============================] - 0s 61us/step - loss: 0.1673 - acc: 0.9581 - val_loss: 0.4432 - val_acc: 0.8967\n",
      "Epoch 62/100\n",
      "2700/2700 [==============================] - 0s 55us/step - loss: 0.1655 - acc: 0.9622 - val_loss: 0.4424 - val_acc: 0.9033\n",
      "Epoch 63/100\n",
      "2700/2700 [==============================] - 0s 47us/step - loss: 0.1626 - acc: 0.9585 - val_loss: 0.4416 - val_acc: 0.9033\n",
      "Epoch 64/100\n",
      "2700/2700 [==============================] - 0s 55us/step - loss: 0.1604 - acc: 0.9596 - val_loss: 0.4435 - val_acc: 0.9033\n",
      "Epoch 65/100\n",
      "2700/2700 [==============================] - 0s 57us/step - loss: 0.1594 - acc: 0.9604 - val_loss: 0.4437 - val_acc: 0.9000\n",
      "Epoch 66/100\n",
      "2700/2700 [==============================] - 0s 47us/step - loss: 0.1564 - acc: 0.9633 - val_loss: 0.4447 - val_acc: 0.9033\n",
      "Epoch 67/100\n",
      "2700/2700 [==============================] - 0s 45us/step - loss: 0.1550 - acc: 0.9637 - val_loss: 0.4446 - val_acc: 0.9000\n",
      "Epoch 68/100\n",
      "2700/2700 [==============================] - 0s 42us/step - loss: 0.1535 - acc: 0.9641 - val_loss: 0.4472 - val_acc: 0.9000\n",
      "Epoch 69/100\n",
      "2700/2700 [==============================] - 0s 44us/step - loss: 0.1516 - acc: 0.9659 - val_loss: 0.4470 - val_acc: 0.8933\n",
      "Epoch 70/100\n",
      "2700/2700 [==============================] - 0s 44us/step - loss: 0.1501 - acc: 0.9659 - val_loss: 0.4481 - val_acc: 0.8967\n",
      "Epoch 71/100\n",
      "2700/2700 [==============================] - 0s 43us/step - loss: 0.1470 - acc: 0.9644 - val_loss: 0.4473 - val_acc: 0.8967\n",
      "Epoch 72/100\n",
      "2700/2700 [==============================] - 0s 43us/step - loss: 0.1455 - acc: 0.9663 - val_loss: 0.4574 - val_acc: 0.8967\n",
      "Epoch 73/100\n",
      "2700/2700 [==============================] - 0s 43us/step - loss: 0.1439 - acc: 0.9667 - val_loss: 0.4563 - val_acc: 0.9000\n",
      "Epoch 74/100\n",
      "2700/2700 [==============================] - 0s 43us/step - loss: 0.1421 - acc: 0.9700 - val_loss: 0.4518 - val_acc: 0.9033\n",
      "Epoch 75/100\n",
      "2700/2700 [==============================] - 0s 43us/step - loss: 0.1404 - acc: 0.9700 - val_loss: 0.4580 - val_acc: 0.8967\n",
      "Epoch 76/100\n",
      "2700/2700 [==============================] - 0s 44us/step - loss: 0.1390 - acc: 0.9704 - val_loss: 0.4619 - val_acc: 0.8933\n",
      "Epoch 77/100\n",
      "2700/2700 [==============================] - 0s 51us/step - loss: 0.1376 - acc: 0.9670 - val_loss: 0.4591 - val_acc: 0.8967\n",
      "Epoch 78/100\n",
      "2700/2700 [==============================] - 0s 57us/step - loss: 0.1356 - acc: 0.9689 - val_loss: 0.4621 - val_acc: 0.8967\n",
      "Epoch 79/100\n",
      "2700/2700 [==============================] - 0s 48us/step - loss: 0.1343 - acc: 0.9693 - val_loss: 0.4582 - val_acc: 0.9000\n",
      "Epoch 80/100\n",
      "2700/2700 [==============================] - 0s 46us/step - loss: 0.1319 - acc: 0.9704 - val_loss: 0.4610 - val_acc: 0.8933\n",
      "Epoch 81/100\n",
      "2700/2700 [==============================] - 0s 44us/step - loss: 0.1309 - acc: 0.9711 - val_loss: 0.4556 - val_acc: 0.9033\n",
      "Epoch 82/100\n",
      "2700/2700 [==============================] - 0s 42us/step - loss: 0.1286 - acc: 0.9715 - val_loss: 0.4603 - val_acc: 0.9000\n",
      "Epoch 83/100\n",
      "2700/2700 [==============================] - 0s 47us/step - loss: 0.1269 - acc: 0.9711 - val_loss: 0.4652 - val_acc: 0.8933\n",
      "Epoch 84/100\n",
      "2700/2700 [==============================] - 0s 44us/step - loss: 0.1261 - acc: 0.9733 - val_loss: 0.4655 - val_acc: 0.9033\n",
      "Epoch 85/100\n",
      "2700/2700 [==============================] - 0s 46us/step - loss: 0.1246 - acc: 0.9707 - val_loss: 0.4630 - val_acc: 0.8867\n",
      "Epoch 86/100\n",
      "2700/2700 [==============================] - 0s 44us/step - loss: 0.1232 - acc: 0.9715 - val_loss: 0.4636 - val_acc: 0.8933\n",
      "Epoch 87/100\n",
      "2700/2700 [==============================] - 0s 44us/step - loss: 0.1204 - acc: 0.9744 - val_loss: 0.4625 - val_acc: 0.9033\n",
      "Epoch 88/100\n",
      "2700/2700 [==============================] - 0s 44us/step - loss: 0.1203 - acc: 0.9741 - val_loss: 0.4585 - val_acc: 0.8967\n",
      "Epoch 89/100\n",
      "2700/2700 [==============================] - 0s 43us/step - loss: 0.1186 - acc: 0.9741 - val_loss: 0.4716 - val_acc: 0.8867\n",
      "Epoch 90/100\n",
      "2700/2700 [==============================] - 0s 44us/step - loss: 0.1174 - acc: 0.9737 - val_loss: 0.4612 - val_acc: 0.9000\n",
      "Epoch 91/100\n",
      "2700/2700 [==============================] - 0s 42us/step - loss: 0.1160 - acc: 0.9748 - val_loss: 0.4643 - val_acc: 0.8967\n",
      "Epoch 92/100\n",
      "2700/2700 [==============================] - 0s 47us/step - loss: 0.1148 - acc: 0.9767 - val_loss: 0.4704 - val_acc: 0.8867\n",
      "Epoch 93/100\n",
      "2700/2700 [==============================] - 0s 45us/step - loss: 0.1135 - acc: 0.9767 - val_loss: 0.4664 - val_acc: 0.8933\n",
      "Epoch 94/100\n",
      "2700/2700 [==============================] - 0s 45us/step - loss: 0.1125 - acc: 0.9756 - val_loss: 0.4637 - val_acc: 0.9033\n",
      "Epoch 95/100\n",
      "2700/2700 [==============================] - 0s 41us/step - loss: 0.1106 - acc: 0.9796 - val_loss: 0.4742 - val_acc: 0.8867\n",
      "Epoch 96/100\n",
      "2700/2700 [==============================] - 0s 47us/step - loss: 0.1094 - acc: 0.9789 - val_loss: 0.4708 - val_acc: 0.8933\n",
      "Epoch 97/100\n",
      "2700/2700 [==============================] - 0s 45us/step - loss: 0.1074 - acc: 0.9793 - val_loss: 0.4684 - val_acc: 0.8933\n",
      "Epoch 98/100\n",
      "2700/2700 [==============================] - 0s 45us/step - loss: 0.1069 - acc: 0.9804 - val_loss: 0.4747 - val_acc: 0.9000\n",
      "Epoch 99/100\n",
      "2700/2700 [==============================] - 0s 41us/step - loss: 0.1062 - acc: 0.9789 - val_loss: 0.4792 - val_acc: 0.8833\n",
      "Epoch 100/100\n",
      "2700/2700 [==============================] - 0s 47us/step - loss: 0.1048 - acc: 0.9789 - val_loss: 0.4756 - val_acc: 0.8867\n"
     ]
    }
   ],
   "source": [
    "gd = optimizers.SGD(lr=0.05)\n",
    "model2.compile(optimizer=gd,loss='categorical_crossentropy',metrics=['accuracy'])\n",
    "history = model2.fit(X_raw,t_raw_oh,batch_size=100,epochs=100,verbose=1,validation_split=0.1)"
   ]
  },
  {
   "cell_type": "code",
   "execution_count": 11,
   "metadata": {},
   "outputs": [
    {
     "data": {
      "image/png": "[encoded data removed]",
      "text/plain": [
       "<Figure size 432x288 with 1 Axes>"
      ]
     },
     "metadata": {
      "needs_background": "light"
     },
     "output_type": "display_data"
    }
   ],
   "source": [
    "plt.plot(history.history['loss'])\n",
    "plt.plot(history.history['val_loss'])\n",
    "plt.title('Error')\n",
    "plt.xlabel('epoch')\n",
    "plt.legend(['training', 'validation'], loc='best')\n",
    "plt.show()"
   ]
  },
  {
   "cell_type": "code",
   "execution_count": 12,
   "metadata": {},
   "outputs": [
    {
     "data": {
      "image/png": "[encoded data removed]",
      "text/plain": [
       "<Figure size 432x288 with 1 Axes>"
      ]
     },
     "metadata": {
      "needs_background": "light"
     },
     "output_type": "display_data"
    }
   ],
   "source": [
    "plt.plot(history.history['acc'])\n",
    "plt.plot(history.history['val_acc'])\n",
    "plt.title('Accuracy')\n",
    "plt.xlabel('Epoch')\n",
    "plt.legend(['training', 'validation'], loc='best')\n",
    "plt.show()"
   ]
  },
  {
   "cell_type": "code",
   "execution_count": null,
   "metadata": {},
   "outputs": [],
   "source": []
  }
 ],
 "metadata": {
  "kernelspec": {
   "display_name": "Python 3",
   "language": "python",
   "name": "python3"
  },
  "language_info": {
   "codemirror_mode": {
    "name": "ipython",
    "version": 3
   },
   "file_extension": ".py",
   "mimetype": "text/x-python",
   "name": "python",
   "nbconvert_exporter": "python",
   "pygments_lexer": "ipython3",
   "version": "3.6.2"
  }
 },
 "nbformat": 4,
 "nbformat_minor": 2
}
